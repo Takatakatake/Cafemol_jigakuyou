{
 "cells": [
  {
   "cell_type": "code",
   "execution_count": 2,
   "id": "7069ad31",
   "metadata": {},
   "outputs": [],
   "source": [
    "import os\n",
    "a=os.getcwd()\n",
    "for dir in range(1,129):\n",
    "    os.chdir(\"{0}/{1}bp_move\".format(a,dir))\n",
    "### 1bp動かす\n",
    "### リストとして読み込んだ\n",
    "    N=16\n",
    "    file=[]\n",
    "    file2=[]\n",
    "    for j in range(N-2):\n",
    "        file.append(\"1\"+str(j+3)+\".ninfo\")###13.ninfo から116.ninfo\n",
    "        file2.append(\"2\"+str(j+3)+\".ninfo\")###23.ninfo から216.ninfo  \n",
    "    for m in file2:\n",
    "        with open(m) as f:\n",
    "            l = f.readlines()###lはあるninfoファイルに関してリスト化したもので、ninfoファイルそのものとは別\n",
    "        for i in range(len(l)):###setにすれば速い？　lはninfoファイル一つ\n",
    "            if \"contact\" in l[i] and \"native\" not in l[i] and \"between\" not in l[i] and \"with\" not in l[i] and \"unit\" not in l[i]:###ninfoファイルのi行目 \n",
    "                x = \"\"\n",
    "                x = l[i].split()\n",
    "                x[4]=str(int(x[4])+3*dir)\n",
    "                k=''\n",
    "                for j in range(len(x)):###元の形に戻す\n",
    "                    if j<1:\n",
    "                        k+=x[j]\n",
    "                    elif 1<=j<=7:\n",
    "                        k+=x[j].rjust(7)###右揃え\n",
    "                    elif 7<j<=11:\n",
    "                        k+=x[j].rjust(13)### リスト化したやつをもとに戻す\n",
    "                l[i]=k+'\\n'\n",
    "\n",
    "        with open(m, mode='w') as f:\n",
    "            f.writelines(l)\n",
    "                    #print(L)\n",
    "\n",
    "    for n in file:\n",
    "        with open(n) as f:\n",
    "            l = f.readlines()###lはあるninfoファイルに関してリスト化したもので、ninfoファイルそのものとは別\n",
    "        for i in range(len(l)):###setにすれば速い？　lはninfoファイル一つ\n",
    "            if \"contact\" in l[i] and \"native\" not in l[i] and \"between\" not in l[i] and \"with\" not in l[i] and \"unit\" not in l[i]:###ninfoファイルのi行目 \n",
    "                x = \"\"\n",
    "                x = l[i].split()\n",
    "                x[4]=str(int(x[4])-3*dir)\n",
    "                k=''\n",
    "                for j in range(len(x)):###元の形に戻す\n",
    "                    if j<1:\n",
    "                        k+=x[j]\n",
    "                    elif 1<=j<=7:\n",
    "                        k+=x[j].rjust(7)###右揃え\n",
    "                    elif 7<j<=11:\n",
    "                        k+=x[j].rjust(13)### リスト化したやつをもとに戻す\n",
    "                l[i]=k+'\\n'\n",
    "\n",
    "        with open(n, mode='w') as f:\n",
    "            f.writelines(l)\n",
    "                    #print(L)\n",
    "    os.chdir(a)"
   ]
  },
  {
   "cell_type": "code",
   "execution_count": null,
   "id": "ba65d69b",
   "metadata": {},
   "outputs": [],
   "source": []
  }
 ],
 "metadata": {
  "kernelspec": {
   "display_name": "Python 3",
   "language": "python",
   "name": "python3"
  },
  "language_info": {
   "codemirror_mode": {
    "name": "ipython",
    "version": 3
   },
   "file_extension": ".py",
   "mimetype": "text/x-python",
   "name": "python",
   "nbconvert_exporter": "python",
   "pygments_lexer": "ipython3",
   "version": "3.8.12"
  }
 },
 "nbformat": 4,
 "nbformat_minor": 5
}
